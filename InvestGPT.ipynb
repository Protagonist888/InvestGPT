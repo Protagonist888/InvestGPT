{
 "cells": [
  {
   "cell_type": "code",
   "execution_count": 1,
   "id": "30924a70",
   "metadata": {},
   "outputs": [],
   "source": [
    "# This script will summarize information from two reports on electricity markets\n",
    "import openai\n",
    "import PyPDF2\n",
    "import time\n",
    "import config\n",
    "from pathlib import Path\n",
    "from PyPDF2 import PdfReader\n",
    "\n",
    "# Use your own API key here in between the quotations\n",
    "\n",
    "openai.api_key= config.api_key\n",
    "\n",
    "# Point to the reports\n",
    "Report1 = \"C:/Users/markc/Relevant Research/Buffett Shareholder Letters/2022ltr.pdf\"\n",
    "Report2 = \"C:/Users/markc/Relevant Research/Buffett Shareholder Letters/2021ltr.pdf\"\n",
    "Report3 = \"C:/Users/markc/Relevant Research/Buffett Shareholder Letters/CO_10K_2022.pdf\"\n"
   ]
  },
  {
   "cell_type": "code",
   "execution_count": 2,
   "id": "76f044e1",
   "metadata": {},
   "outputs": [
    {
     "name": "stdout",
     "output_type": "stream",
     "text": [
      "10\n",
      "11\n",
      "183\n"
     ]
    }
   ],
   "source": [
    "# Create timer to calculate time to finish this step\n",
    "start1 = time.time()\n",
    "\n",
    "# Create PDF reader objects\n",
    "reader1 = PyPDF2.PdfReader(Report1)\n",
    "reader2 = PyPDF2.PdfReader(Report2)\n",
    "reader3 = PyPDF2.PdfReader(Report3)\n",
    "\n",
    "# Check page count\n",
    "print(len(reader1.pages))\n",
    "print(len(reader2.pages))\n",
    "print(len(reader3.pages))\n",
    "\n"
   ]
  },
  {
   "cell_type": "code",
   "execution_count": 3,
   "id": "f862467a",
   "metadata": {},
   "outputs": [
    {
     "name": "stdout",
     "output_type": "stream",
     "text": [
      "25.528535842895508\n"
     ]
    }
   ],
   "source": [
    "# Extract text of reader1 and input into .TXT file for prompt input\n",
    "\n",
    "with open(\"reader1.txt\", \"w\", encoding = \"UTF-8\") as R1:\n",
    "\n",
    "    for i in range(len(reader1.pages)):\n",
    "        print(reader1.pages[i].extract_text(), file = R1)\n",
    "\n",
    "with open(\"reader2.txt\", \"w\", encoding = \"UTF-8\") as R2:\n",
    "\n",
    "    for i in range(len(reader2.pages)):\n",
    "        print(reader2.pages[i].extract_text(), file = R2)\n",
    "        \n",
    "with open(\"reader3.txt\", \"w\", encoding = \"UTF-8\") as R3:\n",
    "\n",
    "    for i in range(len(reader3.pages)):\n",
    "        print(reader3.pages[i].extract_text(), file = R3)\n",
    "\n",
    "   \n",
    "        \n",
    "        \n",
    "# Complete timer\n",
    "end1 = time.time()\n",
    "print((end1-start1))\n",
    "    "
   ]
  },
  {
   "cell_type": "code",
   "execution_count": 4,
   "id": "1dde0458",
   "metadata": {},
   "outputs": [],
   "source": [
    "# Check contents\n",
    "f = open(\"reader3.txt\", encoding=\"UTF8\")"
   ]
  },
  {
   "cell_type": "code",
   "execution_count": 5,
   "id": "8a7ae492",
   "metadata": {},
   "outputs": [],
   "source": [
    "# Check contents\n",
    "file_contents= f.read()"
   ]
  },
  {
   "cell_type": "code",
   "execution_count": 6,
   "id": "6d6b4c5f",
   "metadata": {},
   "outputs": [],
   "source": [
    "f.close()"
   ]
  },
  {
   "cell_type": "code",
   "execution_count": 7,
   "id": "f6b9dcaf",
   "metadata": {},
   "outputs": [],
   "source": [
    "# Define helper function \n",
    "def get_completion(prompt, model=\"gpt-3.5-turbo\"):\n",
    "    messages = [{\"role\": \"user\", \"content\": prompt}]\n",
    "    response = openai.ChatCompletion.create(\n",
    "        model=model,\n",
    "        messages=messages,\n",
    "        temperature=0, # this is the degree of randomness of the model's output\n",
    "    )\n",
    "    return response.choices[0].message[\"content\"]"
   ]
  },
  {
   "cell_type": "code",
   "execution_count": 8,
   "id": "d597a206",
   "metadata": {},
   "outputs": [],
   "source": [
    "file_contents = Report2\n",
    "#Report2 = \"reader2.txt\""
   ]
  },
  {
   "cell_type": "code",
   "execution_count": 9,
   "id": "5a1a3690",
   "metadata": {},
   "outputs": [
    {
     "name": "stdout",
     "output_type": "stream",
     "text": [
      "As an AI language model, I do not have access to local files on your computer. However, based on my knowledge of Warren Buffett's annual shareholder letters, his key takeaways typically include a focus on long-term investing, the importance of a strong corporate culture, the value of diversification, and the need for transparency and honesty in business practices. He also often emphasizes the importance of staying disciplined and avoiding impulsive decisions, as well as the need to constantly learn and adapt in a changing world.\n"
     ]
    }
   ],
   "source": [
    "# Summarize report 1\n",
    "\n",
    "prompt = f\"\"\"\n",
    "Given Report below. What are Warren Buffett's key takeaways from the a annual shareholder letter? \\\n",
    "Provide an answer based on the Report2 below, delimited by triple backticks, in fewer than 800 words.\n",
    "\n",
    "Report: ```{Report2}```\n",
    "\"\"\"\n",
    "\n",
    "response = get_completion(prompt)\n",
    "print(response)"
   ]
  },
  {
   "cell_type": "code",
   "execution_count": 37,
   "id": "40c2387c",
   "metadata": {},
   "outputs": [
    {
     "name": "stdout",
     "output_type": "stream",
     "text": [
      "As an AI language model, I do not have access to the specific file path provided. However, I can provide a general answer to the questions asked.\n",
      "\n",
      "Berkshire Hathaway's largest holdings, ranked by investment size, include Apple, Bank of America, Coca-Cola, American Express, and Moody's Corporation. The company has chosen to invest in these companies due to their strong financial performance, competitive advantages, and potential for long-term growth.\n",
      "\n",
      "When evaluating a stock like Warren Buffett, key financial metrics to review include the company's earnings per share, price-to-earnings ratio, return on equity, debt-to-equity ratio, and dividend yield. Additionally, it is important to consider the company's competitive position within its industry, management team, and overall growth potential. Buffett also emphasizes the importance of investing in companies with a strong economic moat, or sustainable competitive advantage, which can help protect the company's profits and market share over time.\n"
     ]
    }
   ],
   "source": [
    "# Summarize report 1\n",
    "\n",
    "prompt = f\"\"\"\n",
    "What are Berkshire Hathaway's largest holidings ranked by investment size. \\\n",
    "Why has the company chosen to invest in these companies?\\\n",
    "What key financial metrics should I review to evaluate a stock like Warren Buffett?\\\n",
    "Provide an answer in fewer than 1000 words.\n",
    "\n",
    "Report: ```{Report1}```\n",
    "\"\"\"\n",
    "\n",
    "response = get_completion(prompt)\n",
    "print(response)"
   ]
  },
  {
   "cell_type": "code",
   "execution_count": 10,
   "id": "1af48f09",
   "metadata": {},
   "outputs": [
    {
     "name": "stdout",
     "output_type": "stream",
     "text": [
      "As Warren Buffett, I consider several key financial metrics when buying a company. These metrics include:\n",
      "\n",
      "1. Earnings per share (EPS): EPS is a measure of a company's profitability. I look for companies with a consistent track record of increasing EPS over time.\n",
      "\n",
      "2. Return on equity (ROE): ROE measures a company's ability to generate profits from shareholder equity. I look for companies with a high ROE, indicating that they are efficient at using shareholder funds to generate profits.\n",
      "\n",
      "3. Debt-to-equity ratio: This ratio measures a company's leverage, or the amount of debt it has relative to its equity. I prefer companies with a low debt-to-equity ratio, as they are less risky and have more financial flexibility.\n",
      "\n",
      "4. Free cash flow: Free cash flow is the amount of cash a company generates after accounting for capital expenditures. I look for companies with strong free cash flow, as it indicates that they have the ability to invest in growth opportunities or return cash to shareholders.\n",
      "\n",
      "5. Price-to-earnings ratio (P/E): The P/E ratio measures a company's stock price relative to its earnings. I look for companies with a low P/E ratio, as they may be undervalued by the market.\n",
      "\n",
      "6. Dividend yield: Dividend yield measures the amount of dividends paid out by a company relative to its stock price. I look for companies with a consistent track record of paying dividends and a high dividend yield.\n",
      "\n",
      "7. Market capitalization: Market capitalization is the total value of a company's outstanding shares. I look for companies with a large market capitalization, as they are typically more established and have a proven track record of success.\n",
      "\n",
      "Overall, I prioritize companies with strong financials, a consistent track record of profitability, and a competitive advantage in their industry. I also look for companies with a strong management team and a clear strategy for growth. By considering these key financial metrics, I am able to identify companies with long-term potential and invest in them for the benefit of my shareholders.\n"
     ]
    }
   ],
   "source": [
    "# Summarize report 1\n",
    "\n",
    "prompt = f\"\"\"\n",
    "You are Warren Buffett. What are the key financial metrics to consider when buying a company? \\\n",
    "Provide an answer based on the Report below, delimited by triple backticks, in fewer than 800 words.\n",
    "\n",
    "Report: ```{Report1}```\n",
    "\"\"\"\n",
    "\n",
    "response = get_completion(prompt)\n",
    "print(response)"
   ]
  },
  {
   "cell_type": "code",
   "execution_count": 16,
   "id": "c5a3386a",
   "metadata": {},
   "outputs": [
    {
     "name": "stdout",
     "output_type": "stream",
     "text": [
      "As Warren Buffett, I believe that there are several key financial metrics to consider when buying a company. These metrics include earnings growth, return on equity, debt-to-equity ratio, and free cash flow.\n",
      "\n",
      "Earnings growth is an important metric because it indicates the company's ability to generate profits over time. A company with consistent earnings growth is more likely to continue performing well in the future. I typically look for companies with a minimum of 10% earnings growth over the past five years.\n",
      "\n",
      "Return on equity (ROE) is another important metric because it measures how efficiently a company is using its shareholders' equity to generate profits. A high ROE indicates that the company is generating a strong return on its investments. I typically look for companies with an ROE of at least 15%.\n",
      "\n",
      "The debt-to-equity ratio is also an important metric because it measures the amount of debt a company has relative to its equity. A high debt-to-equity ratio can indicate that a company is taking on too much debt, which can be risky. I typically look for companies with a debt-to-equity ratio of less than 1.\n",
      "\n",
      "Finally, free cash flow is an important metric because it measures the amount of cash a company generates after accounting for capital expenditures. Free cash flow is important because it allows a company to invest in growth opportunities, pay dividends, and reduce debt. I typically look for companies with positive free cash flow.\n",
      "\n",
      "In order to have high confidence that a company will continue to perform well, I look for companies that have consistently met or exceeded these metrics over a period of several years. I also look for companies that have a strong competitive advantage, a talented management team, and a clear growth strategy.\n",
      "\n",
      "Overall, when buying a company, it is important to consider a variety of financial metrics in order to make an informed investment decision. By focusing on earnings growth, return on equity, debt-to-equity ratio, and free cash flow, investors can identify companies that are likely to perform well over the long term.\n"
     ]
    }
   ],
   "source": [
    "# Summarize report 1\n",
    "\n",
    "prompt = f\"\"\"\n",
    "You are Warren Buffett. What are the key financial metrics to consider when buying a company?\\\n",
    "What level should each of these metrics be, in order to have high confidence they will continue to perform well?\n",
    "Provide an answer based in fewer than 800 words.\n",
    "\n",
    "Report: ```{Report1}```\n",
    "\"\"\"\n",
    "\n",
    "response = get_completion(prompt)\n",
    "print(response)"
   ]
  },
  {
   "cell_type": "code",
   "execution_count": 13,
   "id": "09592c74",
   "metadata": {},
   "outputs": [
    {
     "name": "stdout",
     "output_type": "stream",
     "text": [
      "As an AI language model, I do not have access to the provided annual report. However, as a general rule, Warren Buffett looks for companies with strong financials, a competitive advantage, and a long-term growth potential. He also looks for companies with a strong management team and a clear strategy for success. Some key financial and performance metrics that Buffett may look for include revenue growth, profit margins, return on equity, and debt levels. Ultimately, the decision to invest in a company depends on a variety of factors, and requires careful analysis and consideration.\n"
     ]
    }
   ],
   "source": [
    "# Summarize earnings report and suggest whether to buy or not.\n",
    "\n",
    "prompt = f\"\"\"\n",
    "You are Warren Buffett. Given the annual report below, Report3, is this company a sound investment?\\\n",
    "What key financial and performance metrics stand out and why? What makes this company a good long-term investment?\\\n",
    "Provided the annul report, report3 below delimited by triple backticks, provide an answer based in fewer than 1000 words.\n",
    "\n",
    "Report: ```{Report3}```\n",
    "\"\"\"\n",
    "\n",
    "response = get_completion(prompt)\n",
    "print(response)"
   ]
  },
  {
   "cell_type": "code",
   "execution_count": null,
   "id": "32b74e17",
   "metadata": {},
   "outputs": [],
   "source": [
    "# Everything below is to be kept as template --------------------------------------------------------"
   ]
  },
  {
   "cell_type": "code",
   "execution_count": 86,
   "id": "3f167522",
   "metadata": {},
   "outputs": [
    {
     "name": "stdout",
     "output_type": "stream",
     "text": [
      "Unfortunately, there is no article provided for me to summarize and respond to. Please provide the necessary information so I can assist you better.\n"
     ]
    }
   ],
   "source": [
    "# Summarize report 3\n",
    "\n",
    "prompt = f\"\"\"\n",
    "Given Report below, using the information in Section 5, describe what an activity system of Lincoln Electric would look like.\\\n",
    "Provide a response to this request using the report below delimited by triple backticks in at most 800 words.\\\n",
    "\n",
    "\n",
    "Review: ```{Report3}```\n",
    "\"\"\"\n",
    "\n",
    "response = get_completion(prompt)\n",
    "print(response)"
   ]
  },
  {
   "cell_type": "code",
   "execution_count": null,
   "id": "cad8591a",
   "metadata": {},
   "outputs": [],
   "source": [
    "# Everything below this is sample prompts to consider using"
   ]
  },
  {
   "cell_type": "code",
   "execution_count": 85,
   "id": "2deecd13",
   "metadata": {},
   "outputs": [
    {
     "name": "stdout",
     "output_type": "stream",
     "text": [
      "As an AI language model, I am not able to access the content of the file \"reader2.txt\". Please provide the content of the file so that I can assist you in analyzing the report and providing the top 10 takeaways.\n"
     ]
    }
   ],
   "source": [
    "# Summarize takeaways from Report 2\n",
    "\n",
    "prompt = f\"\"\"\n",
    "Analyze this report as a management professor. What are the top 10 takeaways from this report? \\\n",
    "Provide a response to this question from the report below, delimited by triple backticks in at most 500 words \\\n",
    "\n",
    "\n",
    "Review: ```{Report2}```\n",
    "\"\"\"\n",
    "\n",
    "response = get_completion(prompt)\n",
    "print(response)"
   ]
  },
  {
   "cell_type": "code",
   "execution_count": 20,
   "id": "3bbd2f81",
   "metadata": {},
   "outputs": [
    {
     "name": "stdout",
     "output_type": "stream",
     "text": [
      "As an AI language model, I cannot access the file \"reader1.txt\" as it is not provided. However, I can provide a general summary of the key points in chapter three on accounting for assets.\n",
      "\n",
      "Chapter three of an accounting textbook typically covers the accounting treatment of assets. The chapter begins by defining assets as resources that are owned or controlled by an entity and have the potential to provide future economic benefits. The chapter then goes on to discuss the different types of assets, including current assets, long-term assets, tangible assets, and intangible assets.\n",
      "\n",
      "The fundamentals of asset valuation are also covered in this chapter. The book explains that assets are typically valued at their historical cost, which is the amount paid to acquire the asset. However, assets may also be valued at fair value, which is the amount that the asset could be sold for in an arm's length transaction.\n",
      "\n",
      "The chapter also covers the accounting treatment of depreciation, which is the process of allocating the cost of a long-term asset over its useful life. The book explains that there are different methods of depreciation, including straight-line depreciation, declining balance depreciation, and units of production depreciation.\n",
      "\n",
      "Overall, chapter three of an accounting textbook provides a comprehensive overview of the accounting treatment of assets. It covers the different types of assets, the fundamentals of asset valuation, and the accounting treatment of depreciation.\n"
     ]
    }
   ],
   "source": [
    "# Summarize takeaways from Chapter 3 of report 1\n",
    "\n",
    "prompt = f\"\"\"\n",
    "Analyze this accounting textbook as an accounting professor. Summarize the key points in chapter three on accounting for assets. \\\n",
    "What are the fundamentals of asset valuation? \\\n",
    "Provide a response to this question from the report below, delimited by triple backticks in at most 1,000 words \\\n",
    "\n",
    "\n",
    "Review: ```{Report1}```\n",
    "\"\"\"\n",
    "\n",
    "response = get_completion(prompt)\n",
    "print(response)"
   ]
  },
  {
   "cell_type": "code",
   "execution_count": 30,
   "id": "2027555e",
   "metadata": {},
   "outputs": [
    {
     "name": "stdout",
     "output_type": "stream",
     "text": [
      "As an AI language model, I cannot access external files. However, I can provide a general summary of the key points in chapter four on accounting for liabilities.\n",
      "\n",
      "Chapter four of an accounting textbook covers the fundamentals of liability accounting. The chapter defines liabilities as obligations that a company owes to others and provides examples of common liabilities such as accounts payable, notes payable, and accrued expenses. The chapter also discusses the importance of accurately recording liabilities in financial statements to provide a clear picture of a company's financial health.\n",
      "\n",
      "The key points covered in the chapter include the following:\n",
      "\n",
      "1. Definition of liabilities: Liabilities are obligations that a company owes to others, including suppliers, lenders, and employees.\n",
      "\n",
      "2. Types of liabilities: Common types of liabilities include accounts payable, notes payable, accrued expenses, and long-term debt.\n",
      "\n",
      "3. Recognition of liabilities: Liabilities should be recognized in financial statements when they are incurred, regardless of when payment is due.\n",
      "\n",
      "4. Measurement of liabilities: Liabilities should be measured at their fair value, which is the amount that would be required to settle the obligation at the reporting date.\n",
      "\n",
      "5. Disclosure of liabilities: Companies should disclose information about their liabilities in the notes to the financial statements, including the nature of the liability, the amount owed, and any related terms and conditions.\n",
      "\n",
      "Overall, the chapter emphasizes the importance of accurately recording and disclosing liabilities in financial statements to provide a clear picture of a company's financial health.\n"
     ]
    }
   ],
   "source": [
    "# Summarize takeaways from Chapter 4 of report 1\n",
    "\n",
    "prompt = f\"\"\"\n",
    "Analyze this accounting textbook as an accounting professor. Summarize the key points in chapter four on accounting for liabilities. \\\n",
    "What are the fundamentals of liability accounting? \\\n",
    "Provide a response to this question from the report below, delimited by triple backticks in at most 1,000 words \\\n",
    "\n",
    "\n",
    "Review: ```{Report1}```\n",
    "\"\"\"\n",
    "\n",
    "response = get_completion(prompt)\n",
    "print(response)"
   ]
  },
  {
   "cell_type": "code",
   "execution_count": 27,
   "id": "b7765711",
   "metadata": {},
   "outputs": [
    {
     "name": "stdout",
     "output_type": "stream",
     "text": [
      "As an AI language model, I am not able to access the file \"reader1.txt\" as it is not provided in the prompt. However, I can provide a general summary of the key points in chapter four on accounting for equity.\n",
      "\n",
      "Chapter four of an accounting textbook typically covers the topic of accounting for equity. The chapter begins by defining equity as the residual interest in the assets of an entity after deducting liabilities. The chapter then goes on to explain the different types of equity, such as common stock, preferred stock, and retained earnings.\n",
      "\n",
      "The fundamentals of equity accounting include understanding the different types of equity, how to record equity transactions, and how to prepare the equity section of the balance sheet. The chapter also covers topics such as stock dividends, stock splits, and treasury stock.\n",
      "\n",
      "One of the key points in the chapter is the importance of understanding the different types of equity and their characteristics. For example, common stock represents ownership in the company and typically carries voting rights, while preferred stock represents a fixed dividend payment and may not carry voting rights.\n",
      "\n",
      "Another important concept covered in the chapter is the accounting treatment of equity transactions. For example, when a company issues new shares of stock, the transaction is recorded as an increase in both cash and the appropriate equity account. When a company repurchases its own shares of stock, the transaction is recorded as a decrease in both cash and the appropriate equity account.\n",
      "\n",
      "Overall, chapter four provides a comprehensive overview of accounting for equity and is essential reading for any accounting student or professional.\n"
     ]
    }
   ],
   "source": [
    "# Summarize takeaways from Chapter 5 of report 1\n",
    "\n",
    "prompt = f\"\"\"\n",
    "Analyze this accounting textbook as an accounting professor. Summarize the key points in chapter four on accounting for equity. \\\n",
    "What are the fundamentals of equity accounting? \\\n",
    "Provide a response to this question from the report below, delimited by triple backticks in at most 1,000 words \\\n",
    "\n",
    "\n",
    "Review: ```{Report1}```\n",
    "\"\"\"\n",
    "\n",
    "response = get_completion(prompt)\n",
    "print(response)"
   ]
  },
  {
   "cell_type": "code",
   "execution_count": 92,
   "id": "bc487046",
   "metadata": {},
   "outputs": [
    {
     "name": "stdout",
     "output_type": "stream",
     "text": [
      "The report provides an overview of the electricity markets in the United States, with a focus on the Federal Energy Regulatory Commission (FERC) and its role in regulating these markets. Here are the top 10 key takeaways from the report:\n",
      "\n",
      "1. The electricity industry is complex and involves multiple players, including generators, transmission companies, and distribution companies.\n",
      "2. FERC is responsible for regulating the wholesale electricity markets, which involve the buying and selling of electricity between generators and utilities.\n",
      "3. FERC's role is to ensure that these markets are competitive and transparent, and that prices are just and reasonable.\n",
      "4. FERC also oversees the reliability of the electric grid, working with regional grid operators to ensure that there is enough electricity to meet demand at all times.\n",
      "5. The report discusses the different types of electricity markets, including day-ahead and real-time markets, as well as capacity markets, which ensure that there is enough generation capacity available to meet future demand.\n",
      "6. FERC has implemented a number of market reforms over the years, including the creation of regional transmission organizations (RTOs) and independent system operators (ISOs) to manage the grid and oversee the markets.\n",
      "7. The report also discusses the role of renewable energy in the electricity markets, including the growth of wind and solar power and the challenges of integrating these resources into the grid.\n",
      "8. FERC has also been involved in addressing cybersecurity threats to the electric grid, working with other government agencies and industry stakeholders to develop standards and best practices.\n",
      "9. The report notes that FERC's authority over the electricity markets has been challenged in recent years, with some arguing that states should have more control over their own energy policies.\n",
      "10. Finally, the report discusses some of the ongoing debates and challenges facing the electricity industry, including the need for infrastructure investment, the impact of new technologies like energy storage, and the potential for new federal policies to address climate change.\n"
     ]
    }
   ],
   "source": [
    "# Summarize report 2\n",
    "\n",
    "prompt = f\"\"\"\n",
    "Tell me how this report is structured. \\\n",
    "\n",
    "\n",
    "Summarize the report below, delimited by triple \n",
    "backticks, in at most 400 words. \n",
    "\n",
    "Review: ```{Report2}```\n",
    "\"\"\"\n",
    "\n",
    "response = get_completion(prompt)\n",
    "print(response)"
   ]
  },
  {
   "cell_type": "code",
   "execution_count": 5,
   "id": "491fb625",
   "metadata": {},
   "outputs": [
    {
     "name": "stdout",
     "output_type": "stream",
     "text": [
      "The panda plush toy arrived a day earlier than expected, but the customer felt it was a bit small for the price paid.\n"
     ]
    }
   ],
   "source": [
    "# Summarize with focus on shipping and delivery\n",
    "\n",
    "prompt = f\"\"\"\n",
    "Your task is to generate a short summary of a product \\\n",
    "review from an ecommerce site to give feedback to the \\\n",
    "Shipping deparmtment. \n",
    "\n",
    "Summarize the review below, delimited by triple \n",
    "backticks, in at most 30 words, and focusing on any aspects \\\n",
    "that mention shipping and delivery of the product. \n",
    "\n",
    "Review: ```{prod_review}```\n",
    "\"\"\"\n",
    "\n",
    "response = get_completion(prompt)\n",
    "print(response)"
   ]
  },
  {
   "cell_type": "code",
   "execution_count": 6,
   "id": "db2738b3",
   "metadata": {},
   "outputs": [
    {
     "name": "stdout",
     "output_type": "stream",
     "text": [
      "The panda plush toy is soft, cute, and loved by the recipient, but the price may be too high for its size compared to other options.\n"
     ]
    }
   ],
   "source": [
    "# Summarize with focus on price and value\n",
    "\n",
    "prompt = f\"\"\"\n",
    "Your task is to generate a short summary of a product \\\n",
    "review from an ecommerce site to give feedback to the \\\n",
    "pricing deparmtment, responsible for determining the \\\n",
    "price of the product.  \n",
    "\n",
    "Summarize the review below, delimited by triple \n",
    "backticks, in at most 30 words, and focusing on any aspects \\\n",
    "that are relevant to the price and perceived value. \n",
    "\n",
    "Review: ```{prod_review}```\n",
    "\"\"\"\n",
    "\n",
    "response = get_completion(prompt)\n",
    "print(response)"
   ]
  },
  {
   "cell_type": "code",
   "execution_count": 8,
   "id": "d782a75b",
   "metadata": {},
   "outputs": [
    {
     "name": "stdout",
     "output_type": "stream",
     "text": [
      "The product arrived a day earlier than expected.\n"
     ]
    }
   ],
   "source": [
    "# Try 'extract' instead of 'summarize'\n",
    "prompt = f\"\"\"\n",
    "Your task is to extract relevant information from \\ \n",
    "a product review from an ecommerce site to give \\\n",
    "feedback to the Shipping department. \n",
    "\n",
    "From the review below, delimited by triple quotes \\\n",
    "extract the information relevant to shipping and \\ \n",
    "delivery. Limit to 30 words. \n",
    "\n",
    "Review: ```{prod_review}```\n",
    "\"\"\"\n",
    "\n",
    "response = get_completion(prompt)\n",
    "print(response)"
   ]
  },
  {
   "cell_type": "code",
   "execution_count": 9,
   "id": "5e91bb32",
   "metadata": {},
   "outputs": [],
   "source": [
    "# Summarize multiple product reviews\n",
    "\n",
    "review_1 = prod_review \n",
    "\n",
    "# review for a standing lamp\n",
    "review_2 = \"\"\"\n",
    "Needed a nice lamp for my bedroom, and this one \\\n",
    "had additional storage and not too high of a price \\\n",
    "point. Got it fast - arrived in 2 days. The string \\\n",
    "to the lamp broke during the transit and the company \\\n",
    "happily sent over a new one. Came within a few days \\\n",
    "as well. It was easy to put together. Then I had a \\\n",
    "missing part, so I contacted their support and they \\\n",
    "very quickly got me the missing piece! Seems to me \\\n",
    "to be a great company that cares about their customers \\\n",
    "and products. \n",
    "\"\"\"\n",
    "\n",
    "# review for an electric toothbrush\n",
    "review_3 = \"\"\"\n",
    "My dental hygienist recommended an electric toothbrush, \\\n",
    "which is why I got this. The battery life seems to be \\\n",
    "pretty impressive so far. After initial charging and \\\n",
    "leaving the charger plugged in for the first week to \\\n",
    "condition the battery, I've unplugged the charger and \\\n",
    "been using it for twice daily brushing for the last \\\n",
    "3 weeks all on the same charge. But the toothbrush head \\\n",
    "is too small. I’ve seen baby toothbrushes bigger than \\\n",
    "this one. I wish the head was bigger with different \\\n",
    "length bristles to get between teeth better because \\\n",
    "this one doesn’t.  Overall if you can get this one \\\n",
    "around the $50 mark, it's a good deal. The manufactuer's \\\n",
    "replacements heads are pretty expensive, but you can \\\n",
    "get generic ones that're more reasonably priced. This \\\n",
    "toothbrush makes me feel like I've been to the dentist \\\n",
    "every day. My teeth feel sparkly clean! \n",
    "\"\"\"\n",
    "\n",
    "# review for a blender\n",
    "review_4 = \"\"\"\n",
    "So, they still had the 17 piece system on seasonal \\\n",
    "sale for around $49 in the month of November, about \\\n",
    "half off, but for some reason (call it price gouging) \\\n",
    "around the second week of December the prices all went \\\n",
    "up to about anywhere from between $70-$89 for the same \\\n",
    "system. And the 11 piece system went up around $10 or \\\n",
    "so in price also from the earlier sale price of $29. \\\n",
    "So it looks okay, but if you look at the base, the part \\\n",
    "where the blade locks into place doesn’t look as good \\\n",
    "as in previous editions from a few years ago, but I \\\n",
    "plan to be very gentle with it (example, I crush \\\n",
    "very hard items like beans, ice, rice, etc. in the \\ \n",
    "blender first then pulverize them in the serving size \\\n",
    "I want in the blender then switch to the whipping \\\n",
    "blade for a finer flour, and use the cross cutting blade \\\n",
    "first when making smoothies, then use the flat blade \\\n",
    "if I need them finer/less pulpy). Special tip when making \\\n",
    "smoothies, finely cut and freeze the fruits and \\\n",
    "vegetables (if using spinach-lightly stew soften the \\ \n",
    "spinach then freeze until ready for use-and if making \\\n",
    "sorbet, use a small to medium sized food processor) \\ \n",
    "that you plan to use that way you can avoid adding so \\\n",
    "much ice if at all-when making your smoothie. \\\n",
    "After about a year, the motor was making a funny noise. \\\n",
    "I called customer service but the warranty expired \\\n",
    "already, so I had to buy another one. FYI: The overall \\\n",
    "quality has gone done in these types of products, so \\\n",
    "they are kind of counting on brand recognition and \\\n",
    "consumer loyalty to maintain sales. Got it in about \\\n",
    "two days.\n",
    "\"\"\"\n",
    "\n",
    "reviews = [review_1, review_2, review_3, review_4]\n",
    "\n",
    "\n",
    "\n"
   ]
  },
  {
   "cell_type": "code",
   "execution_count": 11,
   "id": "fc6fac03",
   "metadata": {},
   "outputs": [
    {
     "name": "stdout",
     "output_type": "stream",
     "text": [
      "0 Soft and cute panda plush toy loved by daughter, but a bit small for the price. Arrived early. \n",
      "\n",
      "1 Affordable lamp with storage, fast shipping, and excellent customer service. Easy to assemble and missing parts were quickly replaced. \n",
      "\n",
      "2 Good battery life, small toothbrush head, but effective cleaning. Good deal if bought around $50. \n",
      "\n"
     ]
    },
    {
     "ename": "RateLimitError",
     "evalue": "Rate limit reached for default-gpt-3.5-turbo in organization org-0QB3BCHxO2VYRI58a5rutnKr on requests per min. Limit: 3 / min. Please try again in 20s. Contact support@openai.com if you continue to have issues. Please add a payment method to your account to increase your rate limit. Visit https://platform.openai.com/account/billing to add a payment method.",
     "output_type": "error",
     "traceback": [
      "\u001b[1;31m---------------------------------------------------------------------------\u001b[0m",
      "\u001b[1;31mRateLimitError\u001b[0m                            Traceback (most recent call last)",
      "Cell \u001b[1;32mIn[11], line 12\u001b[0m\n\u001b[0;32m      1\u001b[0m \u001b[38;5;28;01mfor\u001b[39;00m i \u001b[38;5;129;01min\u001b[39;00m \u001b[38;5;28mrange\u001b[39m(\u001b[38;5;28mlen\u001b[39m(reviews)):\n\u001b[0;32m      2\u001b[0m     prompt \u001b[38;5;241m=\u001b[39m \u001b[38;5;124mf\u001b[39m\u001b[38;5;124m\"\"\"\u001b[39m\n\u001b[0;32m      3\u001b[0m \u001b[38;5;124m    Your task is to generate a short summary of a product \u001b[39m\u001b[38;5;124m\\\u001b[39m\u001b[38;5;124m \u001b[39m\n\u001b[0;32m      4\u001b[0m \u001b[38;5;124m    review from an ecommerce site. \u001b[39m\n\u001b[1;32m   (...)\u001b[0m\n\u001b[0;32m      9\u001b[0m \u001b[38;5;124m    Review: ```\u001b[39m\u001b[38;5;132;01m{\u001b[39;00mreviews[i]\u001b[38;5;132;01m}\u001b[39;00m\u001b[38;5;124m```\u001b[39m\n\u001b[0;32m     10\u001b[0m \u001b[38;5;124m    \u001b[39m\u001b[38;5;124m\"\"\"\u001b[39m\n\u001b[1;32m---> 12\u001b[0m     response \u001b[38;5;241m=\u001b[39m \u001b[43mget_completion\u001b[49m\u001b[43m(\u001b[49m\u001b[43mprompt\u001b[49m\u001b[43m)\u001b[49m\n\u001b[0;32m     13\u001b[0m     \u001b[38;5;28mprint\u001b[39m(i, response, \u001b[38;5;124m\"\u001b[39m\u001b[38;5;130;01m\\n\u001b[39;00m\u001b[38;5;124m\"\u001b[39m)\n",
      "Cell \u001b[1;32mIn[2], line 3\u001b[0m, in \u001b[0;36mget_completion\u001b[1;34m(prompt, model)\u001b[0m\n\u001b[0;32m      1\u001b[0m \u001b[38;5;28;01mdef\u001b[39;00m \u001b[38;5;21mget_completion\u001b[39m(prompt, model\u001b[38;5;241m=\u001b[39m\u001b[38;5;124m\"\u001b[39m\u001b[38;5;124mgpt-3.5-turbo\u001b[39m\u001b[38;5;124m\"\u001b[39m):\n\u001b[0;32m      2\u001b[0m     messages \u001b[38;5;241m=\u001b[39m [{\u001b[38;5;124m\"\u001b[39m\u001b[38;5;124mrole\u001b[39m\u001b[38;5;124m\"\u001b[39m: \u001b[38;5;124m\"\u001b[39m\u001b[38;5;124muser\u001b[39m\u001b[38;5;124m\"\u001b[39m, \u001b[38;5;124m\"\u001b[39m\u001b[38;5;124mcontent\u001b[39m\u001b[38;5;124m\"\u001b[39m: prompt}]\n\u001b[1;32m----> 3\u001b[0m     response \u001b[38;5;241m=\u001b[39m \u001b[43mopenai\u001b[49m\u001b[38;5;241;43m.\u001b[39;49m\u001b[43mChatCompletion\u001b[49m\u001b[38;5;241;43m.\u001b[39;49m\u001b[43mcreate\u001b[49m\u001b[43m(\u001b[49m\n\u001b[0;32m      4\u001b[0m \u001b[43m        \u001b[49m\u001b[43mmodel\u001b[49m\u001b[38;5;241;43m=\u001b[39;49m\u001b[43mmodel\u001b[49m\u001b[43m,\u001b[49m\n\u001b[0;32m      5\u001b[0m \u001b[43m        \u001b[49m\u001b[43mmessages\u001b[49m\u001b[38;5;241;43m=\u001b[39;49m\u001b[43mmessages\u001b[49m\u001b[43m,\u001b[49m\n\u001b[0;32m      6\u001b[0m \u001b[43m        \u001b[49m\u001b[43mtemperature\u001b[49m\u001b[38;5;241;43m=\u001b[39;49m\u001b[38;5;241;43m0\u001b[39;49m\u001b[43m,\u001b[49m\u001b[43m \u001b[49m\u001b[38;5;66;43;03m# this is the degree of randomness of the model's output\u001b[39;49;00m\n\u001b[0;32m      7\u001b[0m \u001b[43m    \u001b[49m\u001b[43m)\u001b[49m\n\u001b[0;32m      8\u001b[0m     \u001b[38;5;28;01mreturn\u001b[39;00m response\u001b[38;5;241m.\u001b[39mchoices[\u001b[38;5;241m0\u001b[39m]\u001b[38;5;241m.\u001b[39mmessage[\u001b[38;5;124m\"\u001b[39m\u001b[38;5;124mcontent\u001b[39m\u001b[38;5;124m\"\u001b[39m]\n",
      "File \u001b[1;32m~\\miniconda3\\lib\\site-packages\\openai\\api_resources\\chat_completion.py:25\u001b[0m, in \u001b[0;36mChatCompletion.create\u001b[1;34m(cls, *args, **kwargs)\u001b[0m\n\u001b[0;32m     23\u001b[0m \u001b[38;5;28;01mwhile\u001b[39;00m \u001b[38;5;28;01mTrue\u001b[39;00m:\n\u001b[0;32m     24\u001b[0m     \u001b[38;5;28;01mtry\u001b[39;00m:\n\u001b[1;32m---> 25\u001b[0m         \u001b[38;5;28;01mreturn\u001b[39;00m \u001b[38;5;28msuper\u001b[39m()\u001b[38;5;241m.\u001b[39mcreate(\u001b[38;5;241m*\u001b[39margs, \u001b[38;5;241m*\u001b[39m\u001b[38;5;241m*\u001b[39mkwargs)\n\u001b[0;32m     26\u001b[0m     \u001b[38;5;28;01mexcept\u001b[39;00m TryAgain \u001b[38;5;28;01mas\u001b[39;00m e:\n\u001b[0;32m     27\u001b[0m         \u001b[38;5;28;01mif\u001b[39;00m timeout \u001b[38;5;129;01mis\u001b[39;00m \u001b[38;5;129;01mnot\u001b[39;00m \u001b[38;5;28;01mNone\u001b[39;00m \u001b[38;5;129;01mand\u001b[39;00m time\u001b[38;5;241m.\u001b[39mtime() \u001b[38;5;241m>\u001b[39m start \u001b[38;5;241m+\u001b[39m timeout:\n",
      "File \u001b[1;32m~\\miniconda3\\lib\\site-packages\\openai\\api_resources\\abstract\\engine_api_resource.py:153\u001b[0m, in \u001b[0;36mEngineAPIResource.create\u001b[1;34m(cls, api_key, api_base, api_type, request_id, api_version, organization, **params)\u001b[0m\n\u001b[0;32m    127\u001b[0m \u001b[38;5;129m@classmethod\u001b[39m\n\u001b[0;32m    128\u001b[0m \u001b[38;5;28;01mdef\u001b[39;00m \u001b[38;5;21mcreate\u001b[39m(\n\u001b[0;32m    129\u001b[0m     \u001b[38;5;28mcls\u001b[39m,\n\u001b[1;32m   (...)\u001b[0m\n\u001b[0;32m    136\u001b[0m     \u001b[38;5;241m*\u001b[39m\u001b[38;5;241m*\u001b[39mparams,\n\u001b[0;32m    137\u001b[0m ):\n\u001b[0;32m    138\u001b[0m     (\n\u001b[0;32m    139\u001b[0m         deployment_id,\n\u001b[0;32m    140\u001b[0m         engine,\n\u001b[1;32m   (...)\u001b[0m\n\u001b[0;32m    150\u001b[0m         api_key, api_base, api_type, api_version, organization, \u001b[38;5;241m*\u001b[39m\u001b[38;5;241m*\u001b[39mparams\n\u001b[0;32m    151\u001b[0m     )\n\u001b[1;32m--> 153\u001b[0m     response, _, api_key \u001b[38;5;241m=\u001b[39m \u001b[43mrequestor\u001b[49m\u001b[38;5;241;43m.\u001b[39;49m\u001b[43mrequest\u001b[49m\u001b[43m(\u001b[49m\n\u001b[0;32m    154\u001b[0m \u001b[43m        \u001b[49m\u001b[38;5;124;43m\"\u001b[39;49m\u001b[38;5;124;43mpost\u001b[39;49m\u001b[38;5;124;43m\"\u001b[39;49m\u001b[43m,\u001b[49m\n\u001b[0;32m    155\u001b[0m \u001b[43m        \u001b[49m\u001b[43murl\u001b[49m\u001b[43m,\u001b[49m\n\u001b[0;32m    156\u001b[0m \u001b[43m        \u001b[49m\u001b[43mparams\u001b[49m\u001b[38;5;241;43m=\u001b[39;49m\u001b[43mparams\u001b[49m\u001b[43m,\u001b[49m\n\u001b[0;32m    157\u001b[0m \u001b[43m        \u001b[49m\u001b[43mheaders\u001b[49m\u001b[38;5;241;43m=\u001b[39;49m\u001b[43mheaders\u001b[49m\u001b[43m,\u001b[49m\n\u001b[0;32m    158\u001b[0m \u001b[43m        \u001b[49m\u001b[43mstream\u001b[49m\u001b[38;5;241;43m=\u001b[39;49m\u001b[43mstream\u001b[49m\u001b[43m,\u001b[49m\n\u001b[0;32m    159\u001b[0m \u001b[43m        \u001b[49m\u001b[43mrequest_id\u001b[49m\u001b[38;5;241;43m=\u001b[39;49m\u001b[43mrequest_id\u001b[49m\u001b[43m,\u001b[49m\n\u001b[0;32m    160\u001b[0m \u001b[43m        \u001b[49m\u001b[43mrequest_timeout\u001b[49m\u001b[38;5;241;43m=\u001b[39;49m\u001b[43mrequest_timeout\u001b[49m\u001b[43m,\u001b[49m\n\u001b[0;32m    161\u001b[0m \u001b[43m    \u001b[49m\u001b[43m)\u001b[49m\n\u001b[0;32m    163\u001b[0m     \u001b[38;5;28;01mif\u001b[39;00m stream:\n\u001b[0;32m    164\u001b[0m         \u001b[38;5;66;03m# must be an iterator\u001b[39;00m\n\u001b[0;32m    165\u001b[0m         \u001b[38;5;28;01massert\u001b[39;00m \u001b[38;5;129;01mnot\u001b[39;00m \u001b[38;5;28misinstance\u001b[39m(response, OpenAIResponse)\n",
      "File \u001b[1;32m~\\miniconda3\\lib\\site-packages\\openai\\api_requestor.py:226\u001b[0m, in \u001b[0;36mAPIRequestor.request\u001b[1;34m(self, method, url, params, headers, files, stream, request_id, request_timeout)\u001b[0m\n\u001b[0;32m    205\u001b[0m \u001b[38;5;28;01mdef\u001b[39;00m \u001b[38;5;21mrequest\u001b[39m(\n\u001b[0;32m    206\u001b[0m     \u001b[38;5;28mself\u001b[39m,\n\u001b[0;32m    207\u001b[0m     method,\n\u001b[1;32m   (...)\u001b[0m\n\u001b[0;32m    214\u001b[0m     request_timeout: Optional[Union[\u001b[38;5;28mfloat\u001b[39m, Tuple[\u001b[38;5;28mfloat\u001b[39m, \u001b[38;5;28mfloat\u001b[39m]]] \u001b[38;5;241m=\u001b[39m \u001b[38;5;28;01mNone\u001b[39;00m,\n\u001b[0;32m    215\u001b[0m ) \u001b[38;5;241m-\u001b[39m\u001b[38;5;241m>\u001b[39m Tuple[Union[OpenAIResponse, Iterator[OpenAIResponse]], \u001b[38;5;28mbool\u001b[39m, \u001b[38;5;28mstr\u001b[39m]:\n\u001b[0;32m    216\u001b[0m     result \u001b[38;5;241m=\u001b[39m \u001b[38;5;28mself\u001b[39m\u001b[38;5;241m.\u001b[39mrequest_raw(\n\u001b[0;32m    217\u001b[0m         method\u001b[38;5;241m.\u001b[39mlower(),\n\u001b[0;32m    218\u001b[0m         url,\n\u001b[1;32m   (...)\u001b[0m\n\u001b[0;32m    224\u001b[0m         request_timeout\u001b[38;5;241m=\u001b[39mrequest_timeout,\n\u001b[0;32m    225\u001b[0m     )\n\u001b[1;32m--> 226\u001b[0m     resp, got_stream \u001b[38;5;241m=\u001b[39m \u001b[38;5;28;43mself\u001b[39;49m\u001b[38;5;241;43m.\u001b[39;49m\u001b[43m_interpret_response\u001b[49m\u001b[43m(\u001b[49m\u001b[43mresult\u001b[49m\u001b[43m,\u001b[49m\u001b[43m \u001b[49m\u001b[43mstream\u001b[49m\u001b[43m)\u001b[49m\n\u001b[0;32m    227\u001b[0m     \u001b[38;5;28;01mreturn\u001b[39;00m resp, got_stream, \u001b[38;5;28mself\u001b[39m\u001b[38;5;241m.\u001b[39mapi_key\n",
      "File \u001b[1;32m~\\miniconda3\\lib\\site-packages\\openai\\api_requestor.py:620\u001b[0m, in \u001b[0;36mAPIRequestor._interpret_response\u001b[1;34m(self, result, stream)\u001b[0m\n\u001b[0;32m    612\u001b[0m     \u001b[38;5;28;01mreturn\u001b[39;00m (\n\u001b[0;32m    613\u001b[0m         \u001b[38;5;28mself\u001b[39m\u001b[38;5;241m.\u001b[39m_interpret_response_line(\n\u001b[0;32m    614\u001b[0m             line, result\u001b[38;5;241m.\u001b[39mstatus_code, result\u001b[38;5;241m.\u001b[39mheaders, stream\u001b[38;5;241m=\u001b[39m\u001b[38;5;28;01mTrue\u001b[39;00m\n\u001b[0;32m    615\u001b[0m         )\n\u001b[0;32m    616\u001b[0m         \u001b[38;5;28;01mfor\u001b[39;00m line \u001b[38;5;129;01min\u001b[39;00m parse_stream(result\u001b[38;5;241m.\u001b[39miter_lines())\n\u001b[0;32m    617\u001b[0m     ), \u001b[38;5;28;01mTrue\u001b[39;00m\n\u001b[0;32m    618\u001b[0m \u001b[38;5;28;01melse\u001b[39;00m:\n\u001b[0;32m    619\u001b[0m     \u001b[38;5;28;01mreturn\u001b[39;00m (\n\u001b[1;32m--> 620\u001b[0m         \u001b[38;5;28;43mself\u001b[39;49m\u001b[38;5;241;43m.\u001b[39;49m\u001b[43m_interpret_response_line\u001b[49m\u001b[43m(\u001b[49m\n\u001b[0;32m    621\u001b[0m \u001b[43m            \u001b[49m\u001b[43mresult\u001b[49m\u001b[38;5;241;43m.\u001b[39;49m\u001b[43mcontent\u001b[49m\u001b[38;5;241;43m.\u001b[39;49m\u001b[43mdecode\u001b[49m\u001b[43m(\u001b[49m\u001b[38;5;124;43m\"\u001b[39;49m\u001b[38;5;124;43mutf-8\u001b[39;49m\u001b[38;5;124;43m\"\u001b[39;49m\u001b[43m)\u001b[49m\u001b[43m,\u001b[49m\n\u001b[0;32m    622\u001b[0m \u001b[43m            \u001b[49m\u001b[43mresult\u001b[49m\u001b[38;5;241;43m.\u001b[39;49m\u001b[43mstatus_code\u001b[49m\u001b[43m,\u001b[49m\n\u001b[0;32m    623\u001b[0m \u001b[43m            \u001b[49m\u001b[43mresult\u001b[49m\u001b[38;5;241;43m.\u001b[39;49m\u001b[43mheaders\u001b[49m\u001b[43m,\u001b[49m\n\u001b[0;32m    624\u001b[0m \u001b[43m            \u001b[49m\u001b[43mstream\u001b[49m\u001b[38;5;241;43m=\u001b[39;49m\u001b[38;5;28;43;01mFalse\u001b[39;49;00m\u001b[43m,\u001b[49m\n\u001b[0;32m    625\u001b[0m \u001b[43m        \u001b[49m\u001b[43m)\u001b[49m,\n\u001b[0;32m    626\u001b[0m         \u001b[38;5;28;01mFalse\u001b[39;00m,\n\u001b[0;32m    627\u001b[0m     )\n",
      "File \u001b[1;32m~\\miniconda3\\lib\\site-packages\\openai\\api_requestor.py:683\u001b[0m, in \u001b[0;36mAPIRequestor._interpret_response_line\u001b[1;34m(self, rbody, rcode, rheaders, stream)\u001b[0m\n\u001b[0;32m    681\u001b[0m stream_error \u001b[38;5;241m=\u001b[39m stream \u001b[38;5;129;01mand\u001b[39;00m \u001b[38;5;124m\"\u001b[39m\u001b[38;5;124merror\u001b[39m\u001b[38;5;124m\"\u001b[39m \u001b[38;5;129;01min\u001b[39;00m resp\u001b[38;5;241m.\u001b[39mdata\n\u001b[0;32m    682\u001b[0m \u001b[38;5;28;01mif\u001b[39;00m stream_error \u001b[38;5;129;01mor\u001b[39;00m \u001b[38;5;129;01mnot\u001b[39;00m \u001b[38;5;241m200\u001b[39m \u001b[38;5;241m<\u001b[39m\u001b[38;5;241m=\u001b[39m rcode \u001b[38;5;241m<\u001b[39m \u001b[38;5;241m300\u001b[39m:\n\u001b[1;32m--> 683\u001b[0m     \u001b[38;5;28;01mraise\u001b[39;00m \u001b[38;5;28mself\u001b[39m\u001b[38;5;241m.\u001b[39mhandle_error_response(\n\u001b[0;32m    684\u001b[0m         rbody, rcode, resp\u001b[38;5;241m.\u001b[39mdata, rheaders, stream_error\u001b[38;5;241m=\u001b[39mstream_error\n\u001b[0;32m    685\u001b[0m     )\n\u001b[0;32m    686\u001b[0m \u001b[38;5;28;01mreturn\u001b[39;00m resp\n",
      "\u001b[1;31mRateLimitError\u001b[0m: Rate limit reached for default-gpt-3.5-turbo in organization org-0QB3BCHxO2VYRI58a5rutnKr on requests per min. Limit: 3 / min. Please try again in 20s. Contact support@openai.com if you continue to have issues. Please add a payment method to your account to increase your rate limit. Visit https://platform.openai.com/account/billing to add a payment method."
     ]
    }
   ],
   "source": [
    "for i in range(len(reviews)):\n",
    "    prompt = f\"\"\"\n",
    "    Your task is to generate a short summary of a product \\ \n",
    "    review from an ecommerce site. \n",
    "\n",
    "    Summarize the review below, delimited by triple \\\n",
    "    backticks in at most 20 words. \n",
    "\n",
    "    Review: ```{reviews[i]}```\n",
    "    \"\"\"\n",
    "\n",
    "    response = get_completion(prompt)\n",
    "    print(i, response, \"\\n\")"
   ]
  },
  {
   "cell_type": "code",
   "execution_count": null,
   "id": "70f33175",
   "metadata": {},
   "outputs": [],
   "source": []
  }
 ],
 "metadata": {
  "kernelspec": {
   "display_name": "Python 3 (ipykernel)",
   "language": "python",
   "name": "python3"
  },
  "language_info": {
   "codemirror_mode": {
    "name": "ipython",
    "version": 3
   },
   "file_extension": ".py",
   "mimetype": "text/x-python",
   "name": "python",
   "nbconvert_exporter": "python",
   "pygments_lexer": "ipython3",
   "version": "3.10.8"
  }
 },
 "nbformat": 4,
 "nbformat_minor": 5
}
